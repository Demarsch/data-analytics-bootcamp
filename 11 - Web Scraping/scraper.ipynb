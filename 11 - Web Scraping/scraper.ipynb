{
 "cells": [
  {
   "cell_type": "markdown",
   "metadata": {},
   "source": [
    "# Setup and Dependecies"
   ]
  },
  {
   "cell_type": "code",
   "execution_count": 12,
   "metadata": {},
   "outputs": [],
   "source": [
    "# Import dependecies\n",
    "from splinter import Browser\n",
    "from bs4 import BeautifulSoup as bs\n",
    "import pymongo\n",
    "import random\n",
    "import re"
   ]
  },
  {
   "cell_type": "code",
   "execution_count": 2,
   "metadata": {},
   "outputs": [],
   "source": [
    "# Setup MongoDB connecion\n",
    "conn = 'mongodb://localhost:27017'\n",
    "client = pymongo.MongoClient(conn)\n",
    "db = client.mars_db"
   ]
  },
  {
   "cell_type": "code",
   "execution_count": 6,
   "metadata": {},
   "outputs": [],
   "source": [
    "# Configuring splinter browser to access HTML of the target pages\n",
    "executable_path = {'executable_path': 'chromedriver.exe', 'headless': False }\n",
    "browser = Browser('chrome', **executable_path)"
   ]
  },
  {
   "cell_type": "markdown",
   "metadata": {},
   "source": [
    "# NASA Mars News"
   ]
  },
  {
   "cell_type": "code",
   "execution_count": 4,
   "metadata": {},
   "outputs": [
    {
     "name": "stdout",
     "output_type": "stream",
     "text": [
      "The latest news title: NASA to Host Briefing on November Mars InSight Landing\n",
      "The latest news text: A briefing on NASA's upcoming InSight Mars landing will air on Wed. Oct. 31 at 1:30 p.m. EDT (10:30 a.m. PDT) on NASA TV, the agency's website and NASA InSight Facebook Page.\n"
     ]
    }
   ],
   "source": [
    "# Scraping NASA website for a title and contents of the latest news\n",
    "url = 'https://mars.nasa.gov/news/'\n",
    "browser.visit(url)\n",
    "soup = bs(browser.html, 'lxml')\n",
    "\n",
    "news_title = None\n",
    "news_text = None\n",
    "\n",
    "article = soup.find('li', class_='slide')\n",
    "if article:\n",
    "    header = article.find('div', class_='content_title')\n",
    "    if header:\n",
    "        news_title = header.text.strip()\n",
    "    body = article.find('div', class_='article_teaser_body')\n",
    "    if body:\n",
    "        news_text = body.text.strip()\n",
    "print(f'The latest news title: {news_title}')\n",
    "print(f'The latest news text: {news_text}')    "
   ]
  },
  {
   "cell_type": "markdown",
   "metadata": {},
   "source": [
    "# JPL Mars Space Images - Featured Image"
   ]
  },
  {
   "cell_type": "code",
   "execution_count": 19,
   "metadata": {},
   "outputs": [
    {
     "name": "stdout",
     "output_type": "stream",
     "text": [
      "High-res featured image \"Europa's Stunning Surface\" is found at https://www.jpl.nasa.gov/spaceimages/images/wallpaper/PIA19048-1920x1200.jpg\n"
     ]
    }
   ],
   "source": [
    "# Scraping Jet Propulsion Laboratory website for one high-res image of Mars\n",
    "url_base = 'https://www.jpl.nasa.gov'\n",
    "url = f'{url_base}/spaceimages/?search=&category=Mars'\n",
    "browser.visit(url)\n",
    "soup = bs(browser.html, 'lxml')\n",
    "\n",
    "featured_img_url = None\n",
    "featured_img_title = None\n",
    "\n",
    "section = soup.find('section', class_='main_feature')\n",
    "if section:\n",
    "    article = sec.find('article', class_='carousel_item')\n",
    "    if article:\n",
    "        match = re.search(\"'.+'\", article['style'])\n",
    "        featured_img_url = match[0].strip(\"'\")\n",
    "        featured_img_url = f'{url_base}{featured_img_url}'\n",
    "        title = article.h1\n",
    "        if title:\n",
    "            featured_img_title = article.h1.text.strip()\n",
    "print(f'High-res featured image \"{featured_img_title}\" is found at {featured_img_url}')    "
   ]
  },
  {
   "cell_type": "code",
   "execution_count": null,
   "metadata": {},
   "outputs": [],
   "source": []
  }
 ],
 "metadata": {
  "kernel_info": {
   "name": "python3"
  },
  "kernelspec": {
   "display_name": "Python 3",
   "language": "python",
   "name": "python3"
  },
  "language_info": {
   "codemirror_mode": {
    "name": "ipython",
    "version": 3
   },
   "file_extension": ".py",
   "mimetype": "text/x-python",
   "name": "python",
   "nbconvert_exporter": "python",
   "pygments_lexer": "ipython3",
   "version": "3.6.6"
  },
  "nteract": {
   "version": "0.9.1"
  },
  "varInspector": {
   "cols": {
    "lenName": 16,
    "lenType": 16,
    "lenVar": 40
   },
   "kernels_config": {
    "python": {
     "delete_cmd_postfix": "",
     "delete_cmd_prefix": "del ",
     "library": "var_list.py",
     "varRefreshCmd": "print(var_dic_list())"
    },
    "r": {
     "delete_cmd_postfix": ") ",
     "delete_cmd_prefix": "rm(",
     "library": "var_list.r",
     "varRefreshCmd": "cat(var_dic_list()) "
    }
   },
   "types_to_exclude": [
    "module",
    "function",
    "builtin_function_or_method",
    "instance",
    "_Feature"
   ],
   "window_display": false
  }
 },
 "nbformat": 4,
 "nbformat_minor": 2
}
