{
 "cells": [
  {
   "cell_type": "markdown",
   "metadata": {},
   "source": [
    "# Setup and Dependecies"
   ]
  },
  {
   "cell_type": "code",
   "execution_count": 15,
   "metadata": {},
   "outputs": [],
   "source": [
    "# Import dependecies\n",
    "from splinter import Browser\n",
    "from bs4 import BeautifulSoup as bs\n",
    "import pandas as pd\n",
    "import pymongo\n",
    "import random\n",
    "import re"
   ]
  },
  {
   "cell_type": "code",
   "execution_count": 2,
   "metadata": {},
   "outputs": [],
   "source": [
    "# Setup MongoDB connecion\n",
    "conn = 'mongodb://localhost:27017'\n",
    "client = pymongo.MongoClient(conn)\n",
    "db = client.mars_db"
   ]
  },
  {
   "cell_type": "code",
   "execution_count": 3,
   "metadata": {},
   "outputs": [],
   "source": [
    "# Configuring splinter browser to access HTML of the target pages\n",
    "executable_path = {'executable_path': 'chromedriver.exe', 'headless': False }\n",
    "browser = Browser('chrome', **executable_path)"
   ]
  },
  {
   "cell_type": "markdown",
   "metadata": {},
   "source": [
    "# NASA Mars News"
   ]
  },
  {
   "cell_type": "code",
   "execution_count": 4,
   "metadata": {},
   "outputs": [],
   "source": [
    "# Scraping NASA website for a title and contents of the latest news\n",
    "url = 'https://mars.nasa.gov/news/'\n",
    "browser.visit(url)\n",
    "soup = bs(browser.html, 'lxml')"
   ]
  },
  {
   "cell_type": "code",
   "execution_count": 5,
   "metadata": {},
   "outputs": [
    {
     "name": "stdout",
     "output_type": "stream",
     "text": [
      "The latest news title: NASA to Host Briefing on November Mars InSight Landing\n",
      "The latest news text: A briefing on NASA's upcoming InSight Mars landing will air on Wed. Oct. 31 at 1:30 p.m. EDT (10:30 a.m. PDT) on NASA TV, the agency's website and NASA InSight Facebook Page.\n"
     ]
    }
   ],
   "source": [
    "news_title = None\n",
    "news_text = None\n",
    "\n",
    "article = soup.find('li', class_='slide')\n",
    "if article:\n",
    "    header = article.find('div', class_='content_title')\n",
    "    if header:\n",
    "        news_title = header.text.strip()\n",
    "    body = article.find('div', class_='article_teaser_body')\n",
    "    if body:\n",
    "        news_text = body.text.strip()\n",
    "print(f'The latest news title: {news_title}')\n",
    "print(f'The latest news text: {news_text}')    "
   ]
  },
  {
   "cell_type": "markdown",
   "metadata": {},
   "source": [
    "# JPL Mars Space Images - Featured Image"
   ]
  },
  {
   "cell_type": "code",
   "execution_count": 6,
   "metadata": {},
   "outputs": [],
   "source": [
    "# Scraping Jet Propulsion Laboratory website for one high-res image of Mars\n",
    "url_base = 'https://www.jpl.nasa.gov'\n",
    "url = f'{url_base}/spaceimages/?search=&category=Mars'\n",
    "browser.visit(url)\n",
    "soup = bs(browser.html, 'lxml')"
   ]
  },
  {
   "cell_type": "code",
   "execution_count": 9,
   "metadata": {},
   "outputs": [
    {
     "name": "stdout",
     "output_type": "stream",
     "text": [
      "High-res featured image \"Black Holes Shine for NuSTAR\" is found at https://www.jpl.nasa.gov/spaceimages/images/wallpaper/PIA17440-1920x1200.jpg\n"
     ]
    }
   ],
   "source": [
    "featured_img_url = None\n",
    "featured_img_title = None\n",
    "\n",
    "section = soup.find('section', class_='main_feature')\n",
    "if section:\n",
    "    article = section.find('article', class_='carousel_item')\n",
    "    if article:\n",
    "        match = re.search(\"url\\('.+'\\)\", article['style'])\n",
    "        featured_img_url = match[0][5:][:-2]\n",
    "        featured_img_url = f'{url_base}{featured_img_url}'\n",
    "        title = article.h1\n",
    "        if title:\n",
    "            featured_img_title = article.h1.text.strip()\n",
    "print(f'High-res featured image \"{featured_img_title}\" is found at {featured_img_url}')    "
   ]
  },
  {
   "cell_type": "markdown",
   "metadata": {},
   "source": [
    "# Mars Weather"
   ]
  },
  {
   "cell_type": "code",
   "execution_count": 10,
   "metadata": {},
   "outputs": [],
   "source": [
    "# Scraping Twitter webpage for the latest tweet on Mars weather\n",
    "url = 'https://twitter.com/marswxreport?lang=en'\n",
    "browser.visit(url)\n",
    "soup = bs(browser.html, 'lxml')"
   ]
  },
  {
   "cell_type": "code",
   "execution_count": 11,
   "metadata": {},
   "outputs": [
    {
     "name": "stdout",
     "output_type": "stream",
     "text": [
      "Latest Mars weather report: Sol 2208 (2018-10-22), high -18C/0F, low -75C/-102F, pressure at 8.80 hPa, daylight 06:08-18:26\n"
     ]
    }
   ],
   "source": [
    "mars_weather = None\n",
    "\n",
    "tweet = soup.find('div', class_='tweet')\n",
    "if tweet:\n",
    "    tweet_text = tweet.find('p', class_='tweet-text')\n",
    "    if tweet_text:\n",
    "        mars_weather = tweet_text.text.strip()\n",
    "print(f'Latest Mars weather report: {mars_weather}')"
   ]
  },
  {
   "cell_type": "markdown",
   "metadata": {},
   "source": [
    "# Mars Facts"
   ]
  },
  {
   "cell_type": "code",
   "execution_count": 14,
   "metadata": {},
   "outputs": [],
   "source": [
    "# Scraping Space Facts webpage for the interesting info on Mars\n",
    "url = 'http://space-facts.com/mars/'\n",
    "browser.visit(url)\n",
    "soup = bs(browser.html, 'lxml')"
   ]
  },
  {
   "cell_type": "code",
   "execution_count": 23,
   "metadata": {},
   "outputs": [
    {
     "data": {
      "text/plain": [
       "{'Fact': ['Equatorial Diameter:',\n",
       "  'Polar Diameter:',\n",
       "  'Mass:',\n",
       "  'Moons:',\n",
       "  'Orbit Distance:',\n",
       "  'Orbit Period:',\n",
       "  'Surface Temperature:',\n",
       "  'First Record:',\n",
       "  'Recorded By:'],\n",
       " 'Details': ['6,792 km',\n",
       "  '6,752 km',\n",
       "  '6.42 x 10^23 kg (10.7% Earth)',\n",
       "  '2 (Phobos & Deimos)',\n",
       "  '227,943,824 km (1.52 AU)',\n",
       "  '687 days (1.9 years)',\n",
       "  '-153 to 20 °C',\n",
       "  '2nd millennium BC',\n",
       "  'Egyptian astronomers']}"
      ]
     },
     "execution_count": 23,
     "metadata": {},
     "output_type": "execute_result"
    }
   ],
   "source": [
    "facts_df = pd.read_html(browser.html)[0]\n",
    "facts_df.rename(columns={0:'Fact', 1:'Details'}, inplace=True)\n",
    "facts = facts_df.to_dict(orient='list')\n",
    "facts"
   ]
  }
 ],
 "metadata": {
  "kernel_info": {
   "name": "python3"
  },
  "kernelspec": {
   "display_name": "Python 3",
   "language": "python",
   "name": "python3"
  },
  "language_info": {
   "codemirror_mode": {
    "name": "ipython",
    "version": 3
   },
   "file_extension": ".py",
   "mimetype": "text/x-python",
   "name": "python",
   "nbconvert_exporter": "python",
   "pygments_lexer": "ipython3",
   "version": "3.6.6"
  },
  "nteract": {
   "version": "0.9.1"
  },
  "varInspector": {
   "cols": {
    "lenName": 16,
    "lenType": 16,
    "lenVar": 40
   },
   "kernels_config": {
    "python": {
     "delete_cmd_postfix": "",
     "delete_cmd_prefix": "del ",
     "library": "var_list.py",
     "varRefreshCmd": "print(var_dic_list())"
    },
    "r": {
     "delete_cmd_postfix": ") ",
     "delete_cmd_prefix": "rm(",
     "library": "var_list.r",
     "varRefreshCmd": "cat(var_dic_list()) "
    }
   },
   "types_to_exclude": [
    "module",
    "function",
    "builtin_function_or_method",
    "instance",
    "_Feature"
   ],
   "window_display": false
  }
 },
 "nbformat": 4,
 "nbformat_minor": 2
}
