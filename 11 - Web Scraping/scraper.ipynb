{
 "cells": [
  {
   "cell_type": "markdown",
   "metadata": {},
   "source": [
    "# Setup and Dependecies"
   ]
  },
  {
   "cell_type": "code",
   "execution_count": 1,
   "metadata": {},
   "outputs": [],
   "source": [
    "# Import dependecies\n",
    "from splinter import Browser\n",
    "from bs4 import BeautifulSoup as bs\n",
    "import pandas as pd\n",
    "import random\n",
    "import re"
   ]
  },
  {
   "cell_type": "code",
   "execution_count": 2,
   "metadata": {},
   "outputs": [],
   "source": [
    "# Configuring splinter browser to access HTML of the target pages\n",
    "executable_path = {'executable_path': 'chromedriver.exe', 'headless': False }\n",
    "browser = Browser('chrome', **executable_path)"
   ]
  },
  {
   "cell_type": "markdown",
   "metadata": {},
   "source": [
    "# NASA Mars News"
   ]
  },
  {
   "cell_type": "code",
   "execution_count": 3,
   "metadata": {},
   "outputs": [],
   "source": [
    "# Scraping NASA website for a title and contents of the latest news\n",
    "url = 'https://mars.nasa.gov/news/'\n",
    "browser.visit(url)\n",
    "soup = bs(browser.html, 'lxml')"
   ]
  },
  {
   "cell_type": "code",
   "execution_count": 4,
   "metadata": {},
   "outputs": [
    {
     "name": "stdout",
     "output_type": "stream",
     "text": [
      "The latest news title: Third ASPIRE Test Confirms Mars 2020 Parachute a Go\n",
      "The latest news text: The supersonic parachute that will handle the heaviest payload yet to the Red Planet – Mars 2020 rover – passes its final sounding rocket test with flying colors.\n"
     ]
    }
   ],
   "source": [
    "news_title = None\n",
    "news_text = None\n",
    "\n",
    "article = soup.find('li', class_='slide')\n",
    "if article:\n",
    "    header = article.find('div', class_='content_title')\n",
    "    if header:\n",
    "        news_title = header.text.strip()\n",
    "    body = article.find('div', class_='article_teaser_body')\n",
    "    if body:\n",
    "        news_text = body.text.strip()\n",
    "print(f'The latest news title: {news_title}')\n",
    "print(f'The latest news text: {news_text}')    "
   ]
  },
  {
   "cell_type": "markdown",
   "metadata": {},
   "source": [
    "# JPL Mars Space Images - Featured Image"
   ]
  },
  {
   "cell_type": "code",
   "execution_count": 5,
   "metadata": {},
   "outputs": [],
   "source": [
    "# Scraping Jet Propulsion Laboratory website for one high-res image of Mars\n",
    "url_base = 'https://www.jpl.nasa.gov'\n",
    "url = f'{url_base}/spaceimages/?search=&category=Mars'\n",
    "browser.visit(url)\n",
    "soup = bs(browser.html, 'lxml')"
   ]
  },
  {
   "cell_type": "code",
   "execution_count": 6,
   "metadata": {},
   "outputs": [
    {
     "name": "stdout",
     "output_type": "stream",
     "text": [
      "High-res featured image \"'John Klein' Site Selected for Curiosity's Drill Debut\" is found at https://www.jpl.nasa.gov/spaceimages/images/wallpaper/PIA16567-1920x1200.jpg\n"
     ]
    }
   ],
   "source": [
    "featured_img_url = None\n",
    "featured_img_title = None\n",
    "\n",
    "section = soup.find('section', class_='main_feature')\n",
    "if section:\n",
    "    article = section.find('article', class_='carousel_item')\n",
    "    if article:\n",
    "        match = re.search(\"url\\('.+'\\)\", article['style'])\n",
    "        featured_img_url = match[0][5:][:-2]\n",
    "        featured_img_url = f'{url_base}{featured_img_url}'\n",
    "        title = article.h1\n",
    "        if title:\n",
    "            featured_img_title = article.h1.text.strip()\n",
    "print(f'High-res featured image \"{featured_img_title}\" is found at {featured_img_url}')    "
   ]
  },
  {
   "cell_type": "markdown",
   "metadata": {},
   "source": [
    "# Mars Weather"
   ]
  },
  {
   "cell_type": "code",
   "execution_count": 7,
   "metadata": {},
   "outputs": [],
   "source": [
    "# Scraping Twitter webpage for the latest tweet on Mars weather\n",
    "url = 'https://twitter.com/marswxreport?lang=en'\n",
    "browser.visit(url)\n",
    "soup = bs(browser.html, 'lxml')"
   ]
  },
  {
   "cell_type": "code",
   "execution_count": 8,
   "metadata": {},
   "outputs": [
    {
     "name": "stdout",
     "output_type": "stream",
     "text": [
      "Latest Mars weather report: Sol 2209 (2018-10-23), high -18C/0F, low -73C/-99F, pressure at 8.79 hPa, daylight 06:09-18:26\n"
     ]
    }
   ],
   "source": [
    "mars_weather = None\n",
    "\n",
    "tweet = soup.find('div', class_='tweet')\n",
    "if tweet:\n",
    "    tweet_text = tweet.find('p', class_='tweet-text')\n",
    "    if tweet_text:\n",
    "        mars_weather = tweet_text.text.strip()\n",
    "print(f'Latest Mars weather report: {mars_weather}')"
   ]
  },
  {
   "cell_type": "markdown",
   "metadata": {},
   "source": [
    "# Mars Facts"
   ]
  },
  {
   "cell_type": "code",
   "execution_count": 9,
   "metadata": {},
   "outputs": [],
   "source": [
    "# Scraping Space Facts webpage for the interesting info on Mars\n",
    "url = 'http://space-facts.com/mars/'\n",
    "browser.visit(url)\n",
    "soup = bs(browser.html, 'lxml')"
   ]
  },
  {
   "cell_type": "code",
   "execution_count": 10,
   "metadata": {},
   "outputs": [
    {
     "data": {
      "text/plain": [
       "{'Fact': ['Equatorial Diameter:',\n",
       "  'Polar Diameter:',\n",
       "  'Mass:',\n",
       "  'Moons:',\n",
       "  'Orbit Distance:',\n",
       "  'Orbit Period:',\n",
       "  'Surface Temperature:',\n",
       "  'First Record:',\n",
       "  'Recorded By:'],\n",
       " 'Details': ['6,792 km',\n",
       "  '6,752 km',\n",
       "  '6.42 x 10^23 kg (10.7% Earth)',\n",
       "  '2 (Phobos & Deimos)',\n",
       "  '227,943,824 km (1.52 AU)',\n",
       "  '687 days (1.9 years)',\n",
       "  '-153 to 20 °C',\n",
       "  '2nd millennium BC',\n",
       "  'Egyptian astronomers']}"
      ]
     },
     "execution_count": 10,
     "metadata": {},
     "output_type": "execute_result"
    }
   ],
   "source": [
    "facts_df = pd.read_html(browser.html)[0]\n",
    "facts_df.rename(columns={0:'Fact', 1:'Details'}, inplace=True)\n",
    "facts = facts_df.to_dict(orient='list')\n",
    "facts"
   ]
  },
  {
   "cell_type": "markdown",
   "metadata": {},
   "source": [
    "# Mars Hemispheres"
   ]
  },
  {
   "cell_type": "code",
   "execution_count": 7,
   "metadata": {},
   "outputs": [],
   "source": [
    "# Scraping high-res images of Mars hemispheres\n",
    "url_base = 'https://astrogeology.usgs.gov'\n",
    "url = f'{url_base}/search/results?q=hemisphere+enhanced&k1=target&v1=Mars'\n",
    "browser.visit(url)\n",
    "soup = bs(browser.html, 'lxml')"
   ]
  },
  {
   "cell_type": "code",
   "execution_count": 9,
   "metadata": {},
   "outputs": [
    {
     "name": "stdout",
     "output_type": "stream",
     "text": [
      "Discovered the following images of the Mars hemispheres:\n",
      "[{'title': 'Cerberus Hemisphere', 'url': 'https://astrogeology.usgs.gov/cache/images/cfa62af2557222a02478f1fcd781d445_cerberus_enhanced.tif_full.jpg'}, {'title': 'Schiaparelli Hemisphere', 'url': 'https://astrogeology.usgs.gov/cache/images/3cdd1cbf5e0813bba925c9030d13b62e_schiaparelli_enhanced.tif_full.jpg'}, {'title': 'Syrtis Major Hemisphere', 'url': 'https://astrogeology.usgs.gov/cache/images/ae209b4e408bb6c3e67b6af38168cf28_syrtis_major_enhanced.tif_full.jpg'}, {'title': 'Valles Marineris Hemisphere', 'url': 'https://astrogeology.usgs.gov/cache/images/7cf2da4bf549ed01c17f206327be4db7_valles_marineris_enhanced.tif_full.jpg'}]\n"
     ]
    }
   ],
   "source": [
    "thumbs = soup.find_all('div', class_='item')\n",
    "hemisphere_images = []\n",
    "word_to_trim = ' Enhanced'\n",
    "for thumb in thumbs:\n",
    "    img_url = None\n",
    "    img_title = None\n",
    "    thumb_link = thumb.find('a', class_='itemLink')\n",
    "    if thumb_link:    \n",
    "        browser.visit(f'{url_base}{thumb_link[\"href\"]}')\n",
    "        soup = bs(browser.html, 'lxml')\n",
    "        img = soup.find('img', class_='wide-image')\n",
    "        if img:\n",
    "            img_url = img['src']\n",
    "            img_url = f'{url_base}{img_url}'\n",
    "        title = soup.find('h2', class_='title')\n",
    "        if title:\n",
    "            img_title = title.text.strip()\n",
    "            if img_title.endswith(word_to_trim):\n",
    "                img_title = img_title[:-len(word_to_trim)]\n",
    "\n",
    "        if img_url:\n",
    "            hemisphere_images.append({\n",
    "                'title': img_title,\n",
    "                'url': img_url\n",
    "            })\n",
    "print('Discovered the following images of the Mars hemispheres:')\n",
    "print(hemisphere_images)"
   ]
  },
  {
   "cell_type": "code",
   "execution_count": 16,
   "metadata": {},
   "outputs": [
    {
     "name": "stderr",
     "output_type": "stream",
     "text": [
      "[NbConvertApp] Converting notebook scraper.ipynb to script\n",
      "[NbConvertApp] Writing 3698 bytes to scraper.py\n"
     ]
    }
   ],
   "source": [
    "!jupyter nbconvert --to script scraper.ipynb"
   ]
  }
 ],
 "metadata": {
  "kernel_info": {
   "name": "python3"
  },
  "kernelspec": {
   "display_name": "Python 3",
   "language": "python",
   "name": "python3"
  },
  "language_info": {
   "codemirror_mode": {
    "name": "ipython",
    "version": 3
   },
   "file_extension": ".py",
   "mimetype": "text/x-python",
   "name": "python",
   "nbconvert_exporter": "python",
   "pygments_lexer": "ipython3",
   "version": "3.6.6"
  },
  "nteract": {
   "version": "0.9.1"
  },
  "varInspector": {
   "cols": {
    "lenName": 16,
    "lenType": 16,
    "lenVar": 40
   },
   "kernels_config": {
    "python": {
     "delete_cmd_postfix": "",
     "delete_cmd_prefix": "del ",
     "library": "var_list.py",
     "varRefreshCmd": "print(var_dic_list())"
    },
    "r": {
     "delete_cmd_postfix": ") ",
     "delete_cmd_prefix": "rm(",
     "library": "var_list.r",
     "varRefreshCmd": "cat(var_dic_list()) "
    }
   },
   "types_to_exclude": [
    "module",
    "function",
    "builtin_function_or_method",
    "instance",
    "_Feature"
   ],
   "window_display": false
  }
 },
 "nbformat": 4,
 "nbformat_minor": 2
}
