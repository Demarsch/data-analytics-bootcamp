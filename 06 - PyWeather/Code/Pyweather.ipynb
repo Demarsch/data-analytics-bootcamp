{
 "cells": [
  {
   "cell_type": "markdown",
   "metadata": {},
   "source": [
    "# PyWeather\n",
    "## Import and Setup"
   ]
  },
  {
   "cell_type": "code",
   "execution_count": 11,
   "metadata": {},
   "outputs": [
    {
     "data": {
      "text/html": [
       "<script>alert(\"ERROR! Openweathermap API key is not configured. Open 'auth.py' file and set up your API key\\nERROR! Google Maps API key is not configured. Open 'auth.py' file and set up your API key\");</script>"
      ],
      "text/plain": [
       "<IPython.core.display.HTML object>"
      ]
     },
     "metadata": {},
     "output_type": "display_data"
    }
   ],
   "source": [
    "# Import dependencies\n",
    "%matplotlib inline\n",
    "import matplotlib.pyplot as plt\n",
    "import pandas as pd\n",
    "import numpy as np\n",
    "from citipy import citipy as cp\n",
    "from IPython.display import display, HTML\n",
    "\n",
    "import config\n",
    "import auth\n",
    "\n",
    "errors = []\n",
    "if auth.owm_api_key == '':\n",
    "    errors.append('ERROR! Openweathermap API key is not configured. Open \\'auth.py\\' file and set up your API key')\n",
    "if auth.gmaps_api_key == '':\n",
    "    errors.append('ERROR! Google Maps API key is not configured. Open \\'auth.py\\' file and set up your API key')\n",
    "\n",
    "if len(errors) > 0:\n",
    "    error_message = '\\\\n'.join(errors)\n",
    "    js = f'<script>alert(\"{error_message}\");</script>'\n",
    "    display(HTML(js))\n",
    "    exit()"
   ]
  },
  {
   "cell_type": "markdown",
   "metadata": {},
   "source": [
    "## Pick Random Citieis\n",
    "\n",
    "Our goal here is to randomly pick N cities so that their locations should be evenly distributed across the whole range of latitudes. While technically we could just use a range of -90 to 90, take N random points from this range and get nearest citieis, there are risks in taking too many values from the range where no cities are located and we could end up taking closest cities that will be densed across several points.\n",
    "\n",
    "Instead I will use the following algorithm"
   ]
  },
  {
   "cell_type": "code",
   "execution_count": 2,
   "metadata": {},
   "outputs": [
    {
     "ename": "AttributeError",
     "evalue": "module 'citipy' has no attribute 'citipy'",
     "output_type": "error",
     "traceback": [
      "\u001b[1;31m---------------------------------------------------------------------------\u001b[0m",
      "\u001b[1;31mAttributeError\u001b[0m                            Traceback (most recent call last)",
      "\u001b[1;32m<ipython-input-2-49894adda8b5>\u001b[0m in \u001b[0;36m<module>\u001b[1;34m()\u001b[0m\n\u001b[0;32m      9\u001b[0m \u001b[1;33m\u001b[0m\u001b[0m\n\u001b[0;32m     10\u001b[0m \u001b[1;31m# First, lets get the list of cities sorted by latitued\u001b[0m\u001b[1;33m\u001b[0m\u001b[1;33m\u001b[0m\u001b[0m\n\u001b[1;32m---> 11\u001b[1;33m \u001b[0mall_cities\u001b[0m \u001b[1;33m=\u001b[0m \u001b[0msorted\u001b[0m\u001b[1;33m(\u001b[0m\u001b[0mcp\u001b[0m\u001b[1;33m.\u001b[0m\u001b[0mcitipy\u001b[0m\u001b[1;33m.\u001b[0m\u001b[0mWORLD_CITIES_DICT\u001b[0m\u001b[1;33m.\u001b[0m\u001b[0mitems\u001b[0m\u001b[1;33m(\u001b[0m\u001b[1;33m)\u001b[0m\u001b[1;33m,\u001b[0m \u001b[0mkey\u001b[0m\u001b[1;33m=\u001b[0m\u001b[1;33m(\u001b[0m\u001b[1;32mlambda\u001b[0m \u001b[0mx\u001b[0m\u001b[1;33m:\u001b[0m \u001b[0mx\u001b[0m\u001b[1;33m[\u001b[0m\u001b[1;36m0\u001b[0m\u001b[1;33m]\u001b[0m\u001b[1;33m)\u001b[0m\u001b[1;33m)\u001b[0m\u001b[1;33m\u001b[0m\u001b[0m\n\u001b[0m\u001b[0;32m     12\u001b[0m \u001b[1;31m# Lets print first 10 values\u001b[0m\u001b[1;33m\u001b[0m\u001b[1;33m\u001b[0m\u001b[0m\n\u001b[0;32m     13\u001b[0m \u001b[0mall_cities\u001b[0m\u001b[1;33m[\u001b[0m\u001b[1;33m:\u001b[0m\u001b[1;36m10\u001b[0m\u001b[1;33m]\u001b[0m\u001b[1;33m\u001b[0m\u001b[0m\n",
      "\u001b[1;31mAttributeError\u001b[0m: module 'citipy' has no attribute 'citipy'"
     ]
    }
   ],
   "source": [
    "# Out goal is to randomly pick N cities which locations should be evenly distributed across all range of latitudes\n",
    "# While technically we could just use a range of -90 to 90, take N random points from this range and get nearest cities\n",
    "# I will use the following algorithm:\n",
    "# 1. Take all cities with their coordinates from citipy library and sort them by latitude\n",
    "# 2. Take the min and max available latitudes (so we don't )\n",
    "# 2. Split them into the N lists\n",
    "# 3. Randomly take one city from every list\n",
    "# This way we evenly pick cities across all range of the available latitudes while still having an element of chance\n",
    "\n",
    "# First, lets get the list of cities sorted by latitued\n",
    "all_cities = sorted(cp.WORLD_CITIES_DICT.items(), key=(lambda x: x[0]))\n",
    "# Lets print first 10 values\n",
    "all_cities[:10]"
   ]
  },
  {
   "cell_type": "code",
   "execution_count": null,
   "metadata": {},
   "outputs": [],
   "source": [
    "# Now lets split them into buckets N cities each (except for the last one)\n"
   ]
  }
 ],
 "metadata": {
  "anaconda-cloud": {},
  "kernelspec": {
   "display_name": "Python 3",
   "language": "python",
   "name": "python3"
  },
  "language_info": {
   "codemirror_mode": {
    "name": "ipython",
    "version": 3
   },
   "file_extension": ".py",
   "mimetype": "text/x-python",
   "name": "python",
   "nbconvert_exporter": "python",
   "pygments_lexer": "ipython3",
   "version": "3.6.6"
  }
 },
 "nbformat": 4,
 "nbformat_minor": 1
}
