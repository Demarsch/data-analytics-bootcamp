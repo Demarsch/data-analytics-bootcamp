{
 "cells": [
  {
   "cell_type": "markdown",
   "metadata": {},
   "source": [
    "# PyWeather\n",
    "## Import and Setup"
   ]
  },
  {
   "cell_type": "code",
   "execution_count": 2,
   "metadata": {},
   "outputs": [
    {
     "name": "stdout",
     "output_type": "stream",
     "text": [
      "All API keys are configured\n"
     ]
    }
   ],
   "source": [
    "# Import dependencies\n",
    "%matplotlib inline\n",
    "import gmaps\n",
    "import matplotlib.pyplot as plt\n",
    "import pandas as pd\n",
    "import random\n",
    "from citipy import citipy as cp\n",
    "from IPython.display import display, HTML\n",
    "\n",
    "import config\n",
    "import auth\n",
    "\n",
    "errors = []\n",
    "if auth.owm_api_key == '':\n",
    "    errors.append('ERROR! Openweathermap API key is not configured. Open \\'auth.py\\' file and set up your API key')\n",
    "if auth.gmaps_api_key == '':\n",
    "    errors.append('ERROR! Google Maps API key is not configured. Open \\'auth.py\\' file and set up your API key')\n",
    "\n",
    "if len(errors) > 0:\n",
    "    error_message = '\\\\n'.join(errors)\n",
    "    js = f'<script>alert(\"{error_message}\");</script>'\n",
    "    display(HTML(js))\n",
    "    exit()\n",
    "else:\n",
    "    print('All API keys are configured')\n",
    "    gmaps.configure(api_key=auth.gmaps_api_key)"
   ]
  },
  {
   "cell_type": "markdown",
   "metadata": {},
   "source": [
    "## Pick Random Cities\n",
    "\n",
    "Our goal here is to randomly pick N cities so that their locations should be evenly distributed across the whole range of latitudes. While technically we could just use a range of -90 to 90, take N random points from this range and get nearest citieis, there are risks in taking too many values from the range where no cities are located and we could end up taking the closest cities that will be densed across several points.\n",
    "\n",
    "Instead I will use the following algorithm:\n",
    "1. Take all cities with their coordinates from `citipy` library and sort them by latitude\n",
    "2. Take the min and max available latitudes (so we won't bother with the northern and the sourthern poles and their vicinities)\n",
    "3. Split the available latitude range into N subranges\n",
    "4. For each subrange pick a random city that has its latitude belong to this subrange\n",
    "\n",
    "This way our cities will be distrubuted evenly along the latitude range (and we have good chances to have them spread across the longitude range even though for this research it doesn't matter that much)\n",
    "\n",
    "There is one caveat though. For some intervals there may not be found even a single city. In this case we skip this interval and will later try to pick the remaining count from the general pool"
   ]
  },
  {
   "cell_type": "code",
   "execution_count": 3,
   "metadata": {},
   "outputs": [
    {
     "name": "stdout",
     "output_type": "stream",
     "text": [
      "There are 46723 cities in total\n",
      "Here are the first ten:\n"
     ]
    },
    {
     "data": {
      "text/plain": [
       "['Ushuaia, AR at ((-54.8, -68.3))',\n",
       " 'Punta Arenas, CL at ((-53.15, -70.916667))',\n",
       " 'Rio Gallegos, AR at ((-51.622613, -69.218127))',\n",
       " 'Bluff, NZ at ((-46.6, 168.333333))',\n",
       " 'Invercargill, NZ at ((-46.4, 168.35))',\n",
       " 'Riverton, NZ at ((-46.35, 168.016667))',\n",
       " 'Wallacetown, NZ at ((-46.333333, 168.266667))',\n",
       " 'Wyndham, NZ at ((-46.333333, 168.85))',\n",
       " 'Edendale, NZ at ((-46.316667, 168.783333))',\n",
       " 'Kaitangata, NZ at ((-46.275, 169.85))']"
      ]
     },
     "execution_count": 3,
     "metadata": {},
     "output_type": "execute_result"
    }
   ],
   "source": [
    "# 1. Sort all the citieis by latitude\n",
    "all_cities = sorted(cp.WORLD_CITIES_DICT.items(), key=(lambda x: x[0]))\n",
    "# Lets print first 10 values (the City object from citipy package contain city name, country code and coordinates)\n",
    "print(f'There are {len(all_cities)} cities in total')\n",
    "print('Here are the first ten:')\n",
    "sample_cities = [\n",
    "    f'{city[1].city_name.title()}, {city[1].country_code.upper()} at ({city[0][0], city[0][1]})' \n",
    "    for city in all_cities[:10]\n",
    "]\n",
    "sample_cities"
   ]
  },
  {
   "cell_type": "code",
   "execution_count": 4,
   "metadata": {},
   "outputs": [
    {
     "data": {
      "image/png": "[encoded data removed]",
      "text/plain": [
       "<Figure size 720x576 with 1 Axes>"
      ]
     },
     "metadata": {},
     "output_type": "display_data"
    }
   ],
   "source": [
    "# 2. Pick min and max latitudes to identify the available range\n",
    "min_latitude = all_cities[0][0][0]\n",
    "max_latitude = all_cities[-1][0][0]\n",
    "latitude_range = max_latitude - min_latitude\n",
    "# 3. Split the latitude range into N subranges\n",
    "latitude_step = latitude_range / config.cities_count\n",
    "latitude_buckets = [min_latitude + (i + 1) * latitude_step for i in range(config.cities_count)]\n",
    "city_buckets = []\n",
    "current_max_lat = 0\n",
    "current_bucket = []\n",
    "i = 0\n",
    "while i < len(all_cities):\n",
    "    city = all_cities[i]\n",
    "    city_latitude = city[0][0]\n",
    "    # If current city falls into the latitude range we add it to the current bucket and proceed to the next one\n",
    "    if city_latitude <= latitude_buckets[current_max_lat]:\n",
    "        current_bucket.append(city)\n",
    "        i += 1\n",
    "    # Otherwise we saves our current bucket into the bucket list, create new bucket\n",
    "    #  and proced to the next latitude range (so we can re-check the same city against next latitude range)\n",
    "    else:\n",
    "        current_max_lat += 1\n",
    "        city_buckets.append(current_bucket)\n",
    "        current_bucket = []\n",
    "city_buckets.append(current_bucket)\n",
    "# Lets build a simple chart to see how those cities are distributed over the latitude range\n",
    "plt.figure(figsize=(10, 8))\n",
    "plt.bar(latitude_buckets, [len(cities) for cities in city_buckets])\n",
    "plt.title('Cities Distrubution over Latitude')\n",
    "plt.xlabel('Latitude')\n",
    "plt.ylabel('Cities Count')\n",
    "plt.grid(alpha=0.2, axis='y')\n",
    "plt.show()"
   ]
  },
  {
   "cell_type": "code",
   "execution_count": 5,
   "metadata": {},
   "outputs": [
    {
     "data": {
      "text/plain": [
       "['Atlatlahucan, MX at ((18.933333, -98.9))',\n",
       " 'Villa De Alvarez, MX at ((19.25, -103.733333))',\n",
       " 'Tepetitlan, MX at ((19.633333, -99.916667))',\n",
       " 'Cotija, MX at ((19.816667, -102.683333))',\n",
       " 'Tessalit, ML at ((20.2013889, 1.0088889))',\n",
       " 'Zacoalco, MX at ((20.233333, -103.583333))',\n",
       " 'Opichen, MX at ((20.55, -89.85))',\n",
       " 'Merida, MX at ((20.966667, -89.616667))',\n",
       " 'Nagpur, IN at ((21.15, 79.1))',\n",
       " 'Ewa Beach, US at ((21.3155556, -158.0072222))']"
      ]
     },
     "execution_count": 5,
     "metadata": {},
     "output_type": "execute_result"
    }
   ],
   "source": [
    "# 4. Pick random cities from these ranges\n",
    "# Some buckets may contain no cities at all thus we can't pick one from them\n",
    "# So first we pick from those we can\n",
    "picked_cities = []\n",
    "for city_bucket in city_buckets:\n",
    "    if len(city_bucket) > 0:\n",
    "        city_index = random.randrange(len(city_bucket))\n",
    "        # Here we remove picked city so it won't be picked again during the second stage\n",
    "        city = city_bucket.pop(city_index)\n",
    "        picked_cities.append(city)\n",
    "\n",
    "# Now we take all remaining citites and pick (N - picked cities count) cities\n",
    "remaining_cities = [city for cities in city_buckets if len(cities) > 0 for city in cities]\n",
    "picked_cities = picked_cities + random.choices(remaining_cities, k=config.cities_count - len(picked_cities))\n",
    "# Here are the ten random cities from the middle of the list\n",
    "sample_cities = [\n",
    "    f'{city[1].city_name.title()}, {city[1].country_code.upper()} at ({city[0][0], city[0][1]})' \n",
    "    for city in picked_cities[config.cities_count // 2:config.cities_count // 2 + 10]\n",
    "]\n",
    "sample_cities"
   ]
  },
  {
   "cell_type": "code",
   "execution_count": 7,
   "metadata": {},
   "outputs": [
    {
     "data": {
      "application/vnd.jupyter.widget-view+json": {
       "model_id": "e700dc9385244821af63bbc048ff0cb7",
       "version_major": 2,
       "version_minor": 0
      },
      "text/plain": [
       "Figure(layout=FigureLayout(height='420px'))"
      ]
     },
     "metadata": {},
     "output_type": "display_data"
    }
   ],
   "source": [
    "# Now lets show our pick of cities on Google maps\n",
    "fig = gmaps.figure(zoom_level=1, center=(0,0))\n",
    "locations = [city[0] for city in picked_cities]\n",
    "info_box_template = '''\n",
    "<dl>\n",
    "<dt>City</dt><dd>{city}</dd>\n",
    "<dt>Country</dt><dd>{country}</dd>\n",
    "<dt>Location</dt><dd>{location}</dd>\n",
    "</dl>\n",
    "'''\n",
    "info = [info_box_template.format(**{ \n",
    "    'city': city[1].city_name.title(),\n",
    "    'country': city[1].country_code.upper(),\n",
    "    'location': city[0]\n",
    "}) for city in picked_cities]\n",
    "cities_layer = gmaps.symbol_layer(locations, fill_color='red', scale=2, info_box_content=info)\n",
    "fig.add_layer(cities_layer)\n",
    "fig"
   ]
  },
  {
   "cell_type": "code",
   "execution_count": null,
   "metadata": {},
   "outputs": [],
   "source": []
  }
 ],
 "metadata": {
  "anaconda-cloud": {},
  "kernelspec": {
   "display_name": "Python 3",
   "language": "python",
   "name": "python3"
  },
  "language_info": {
   "codemirror_mode": {
    "name": "ipython",
    "version": 3
   },
   "file_extension": ".py",
   "mimetype": "text/x-python",
   "name": "python",
   "nbconvert_exporter": "python",
   "pygments_lexer": "ipython3",
   "version": "3.6.6"
  }
 },
 "nbformat": 4,
 "nbformat_minor": 1
}
